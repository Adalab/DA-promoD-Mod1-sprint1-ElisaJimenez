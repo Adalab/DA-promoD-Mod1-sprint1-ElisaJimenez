{
 "cells": [
  {
   "attachments": {},
   "cell_type": "markdown",
   "metadata": {},
   "source": [
    "**Métodos de *strings***\n",
    "\n",
    "Dado el siguiente *string* \n",
    "\n",
    "```python\n",
    "\n",
    "string = \"\"\"Hoy estamos en una clase de repaso,\n",
    "el objetivo es intentar solucionar todas vuestras dudas, \n",
    "preguntad todo lo que queráis! \n",
    "\"\"\"\n",
    "```\n",
    "\n",
    "\n",
    "Contesta a las siguientes preguntas: \n",
    "\n",
    "1️⃣ Crea dos variables nuevas: \n",
    "    - Una con el *string* en mayúsculas\n",
    "    - Otra con las letras en minúsculas\n",
    "\n",
    "2️⃣ Pon todas las primeras letras del *string* en mayúscula\n",
    "\n",
    "3️⃣ Separa el *string*  por los espacios y almacena el resultado en una lista llamanda `texto_lista`\n",
    "\n",
    "4️⃣ De la lista obtenida en el ejercicio anterior, selecciona solo los 5 primero elementos y almacena los resultados en una variable que se llame `texto_lista_corta` \n",
    "\n",
    "5️⃣ De la lista obtenida en el ejercicio 5. Vuelve a convertirlo en *string* \n",
    "\n",
    "6️⃣ Con el *string* obtenido en el paso anterior: \n",
    "\n",
    "    - Esta la palabra \"el\" en el *string* \n",
    "\n",
    "    - Reemplaza \"Hoy\" por nada\n",
    "\n",
    "    - El ejercicio anterior nos ha dejado espacios al inicio del string, eliminalos\n"
   ]
  },
  {
   "attachments": {},
   "cell_type": "markdown",
   "metadata": {},
   "source": [
    "## RESOLUCION DE EJERCICIO:\n"
   ]
  },
  {
   "cell_type": "code",
   "execution_count": 10,
   "metadata": {},
   "outputs": [
    {
     "name": "stdout",
     "output_type": "stream",
     "text": [
      "HOY ESTAMOS EN UNA CLASE DE REPASO,EL OBJETIVO ES INTENTAR SOLUCIONAR TODAS VUESTRAS DUDAS, PREGUNTAD TODO LO QUE QUERÁIS!\n",
      "Hoy estamos en una clase de repaso,el objetivo es intentar solucionar todas vuestras dudas, preguntad todo lo que queráis!\n"
     ]
    }
   ],
   "source": [
    "# Ejercicio 1\n",
    "\n",
    "clase_repaso = \"Hoy estamos en una clase de repaso,el objetivo es intentar solucionar todas vuestras dudas, preguntad todo lo que queráis!\"\n",
    "\n",
    "clase_repaso_mayus = clase_repaso.upper()\n",
    "print(clase_repaso_mayus)\n",
    "\n",
    "# primero definimos la variable string y a continuación lo pasamos todo a mayúsculas con el método .upper()\n",
    "# seguidamente nos imprime la frase en mayúsculas\n",
    "\n",
    "clase_repaso_min = clase_repaso.lower()\n",
    "print(clase_repaso)\n",
    "\n",
    "# hacemos lo mismo con el método .lower() para que nos lo printee en minúsculas"
   ]
  },
  {
   "cell_type": "code",
   "execution_count": 12,
   "metadata": {},
   "outputs": [
    {
     "name": "stdout",
     "output_type": "stream",
     "text": [
      "Hoy Estamos En Una Clase De Repaso,El Objetivo Es Intentar Solucionar Todas Vuestras Dudas, Preguntad Todo Lo Que Queráis!\n"
     ]
    }
   ],
   "source": [
    "# Ejercicio 2\n",
    "\n",
    "clase_repaso_titulo = clase_repaso.title()\n",
    "print(clase_repaso_titulo)\n",
    "\n",
    "# ponemos cada primera letra del string en mayúscula con el método .title()\n"
   ]
  },
  {
   "cell_type": "code",
   "execution_count": 14,
   "metadata": {},
   "outputs": [
    {
     "name": "stdout",
     "output_type": "stream",
     "text": [
      "['Hoy', 'estamos', 'en', 'una', 'clase', 'de', 'repaso,el', 'objetivo', 'es', 'intentar', 'solucionar', 'todas', 'vuestras', 'dudas,', 'preguntad', 'todo', 'lo', 'que', 'queráis!']\n"
     ]
    }
   ],
   "source": [
    "# Ejercicio 3\n",
    "\n",
    "texto_lista = clase_repaso.split()\n",
    "print(texto_lista)\n",
    "\n",
    "# pasamos el string a lista con el  método .split() almacenándolo ya en la variable llamada texto_lista."
   ]
  },
  {
   "cell_type": "code",
   "execution_count": 26,
   "metadata": {},
   "outputs": [
    {
     "name": "stdout",
     "output_type": "stream",
     "text": [
      "['Hoy', 'estamos', 'en', 'una', 'clase']\n"
     ]
    }
   ],
   "source": [
    "# Ejercicio 4\n",
    "\n",
    "texto_lista_corta = texto_lista[:5]\n",
    "print(texto_lista_corta)\n",
    "\n",
    "# sacamos los 5 primeros elementos de la lista con los corchetes para definir que es una lista y los : y un 5 porque queremos que nos coja desde, el inicio(0) hasta la 5º posición.\n",
    "# en el mismo proceso dejamos definida la variable con el nombre texto_lista_corta\n"
   ]
  },
  {
   "cell_type": "code",
   "execution_count": 42,
   "metadata": {},
   "outputs": [
    {
     "name": "stdout",
     "output_type": "stream",
     "text": [
      "Hoy estamos en una clase\n"
     ]
    }
   ],
   "source": [
    "# Ejercicio 5\n",
    "\n",
    "texto_lista_corta = ['Hoy', 'estamos', 'en', 'una', 'clase']\n",
    "texto_string = \" \".join(texto_lista_corta)\n",
    "print(texto_string)\n",
    "\n",
    "# primero hemos recordadola lista para tenerla visulamente más a mano\n",
    "# a continuación utilizamos el método .join() para unir los elementos de la lista en una string."
   ]
  },
  {
   "cell_type": "code",
   "execution_count": 56,
   "metadata": {},
   "outputs": [
    {
     "name": "stdout",
     "output_type": "stream",
     "text": [
      "Hoy estamos en una clase\n",
      "Hoy estamos en una clase\n"
     ]
    }
   ],
   "source": [
    "# Ejercicio 6\n",
    "\n",
    "texto_string\n",
    "texto_string.find(\"el\")\n",
    "print(texto_string)\n",
    "\n",
    "# recordamos la variable utilizada en el ejercicio anterior que utilizamos para localizar el elemento \"el\".\n",
    "# buscamos el elemento \"el\" en la frase con el método .find().\n",
    "# podemos comprobar que en la frase:\"Hoy estamos en una clase\" no encuentra el elemento \"el\" porque nos da resultado -1.\n",
    "\n",
    "\n",
    "texto_string.replace(\"Hoy\", \"nada\")\n",
    "\n",
    "# con el método de spring .replace() reemplazamos el hoy por el nada\n",
    "\n",
    "\n",
    "print(texto_string.strip())\n",
    "\n",
    "# eliminamos los espacios entre una frase y otra\n"
   ]
  },
  {
   "attachments": {},
   "cell_type": "markdown",
   "metadata": {},
   "source": [
    "**Encuentra el número que no está en la lista**\n",
    "\n",
    "Tenemos una lista desordenada con números positivos de 1 a n. Siempre faltará un sólo número de esta lista aleatoria, ¿cómo identifico cuál falta? Cread un programa para que este código devuelva los resultados deseados:\n",
    "\n",
    "```python\n",
    "lista1 = [3,7,1,2,8,4,5] # nos tiene que devolver 6\n",
    "lista2 = [4,6,1,3,5] #  nos tiene que devolver 2\n",
    "lista3 = [34,35,36,38,39,40] # nos tiene que devolver 37\n",
    "```\n",
    "\n",
    "BONUS: Introduce los resultados obtenidos en un diccionario, indicando que numero falta para cada una de las listas:\n",
    "```python\n",
    "# por ejemplo\n",
    "\n",
    "resultados = {'falta_lista_1': valor_numerico_1, 'falta_lista_2': valor_numerico_2, 'falta_lista_3': valor_numerico_3}\n",
    "```"
   ]
  },
  {
   "cell_type": "code",
   "execution_count": 2,
   "metadata": {},
   "outputs": [],
   "source": [
    "lista1 = [3,7,1,2,8,4,5]\n",
    "lista2 = [4,6,1,3,5] \n",
    "lista3 = [34,35,36,38,39,40]\n"
   ]
  },
  {
   "cell_type": "code",
   "execution_count": 8,
   "metadata": {},
   "outputs": [
    {
     "name": "stdout",
     "output_type": "stream",
     "text": [
      "[1, 2, 3, 4, 5, 7, 8]\n",
      "[1, 3, 4, 5, 6]\n",
      "[34, 35, 36, 38, 39, 40]\n"
     ]
    }
   ],
   "source": [
    "\n",
    "lista_ordenada = sorted(lista1)\n",
    "print(lista_ordenada)\n",
    "\n",
    "lista_ordenada2 = sorted(lista2)\n",
    "print(lista_ordenada2)\n",
    "\n",
    "lista_ordenada3 = sorted(lista3)\n",
    "print(lista_ordenada3)\n",
    "\n",
    "# lo primero que hacemos es ordenar cada lista para que sea más visual"
   ]
  },
  {
   "cell_type": "code",
   "execution_count": 18,
   "metadata": {},
   "outputs": [
    {
     "data": {
      "text/plain": [
       "[1, 2, 3, 4, 5, 7, 8]"
      ]
     },
     "execution_count": 18,
     "metadata": {},
     "output_type": "execute_result"
    }
   ],
   "source": [
    "lista_ordenada\n",
    "\n",
    "# recordamos la primera lista ordenada"
   ]
  },
  {
   "cell_type": "code",
   "execution_count": 20,
   "metadata": {},
   "outputs": [
    {
     "name": "stdout",
     "output_type": "stream",
     "text": [
      "El elemento faltantes es: 6\n"
     ]
    }
   ],
   "source": [
    "for i in range(1, len(lista_ordenada)):\n",
    " if lista_ordenada[i] != lista_ordenada[i-1]+1:\n",
    "    print(\"El elemento faltantes es:\", lista_ordenada[i]-1)\n",
    "    break\n",
    "\n",
    "# de cada número que conforma la lista en el rango desde el inicio, incluyendo todos los elementos de la lista:\n",
    "# si cada elemento de la lista es distinto al anterior más 1\n",
    "# printea que \"(\"El elemento faltantes es:\" el número que nos da la siguiente posición en la lista -1\n",
    "# continuamos haciendo lo descrito en los ejercicios posteriores con las listas 2 y 3."
   ]
  },
  {
   "cell_type": "code",
   "execution_count": 21,
   "metadata": {},
   "outputs": [
    {
     "data": {
      "text/plain": [
       "[1, 3, 4, 5, 6]"
      ]
     },
     "execution_count": 21,
     "metadata": {},
     "output_type": "execute_result"
    }
   ],
   "source": [
    "lista_ordenada2\n",
    "\n",
    "# recordamos la segunda lista ordenada"
   ]
  },
  {
   "cell_type": "code",
   "execution_count": 23,
   "metadata": {},
   "outputs": [
    {
     "name": "stdout",
     "output_type": "stream",
     "text": [
      "El elemento faltante es: 2\n"
     ]
    }
   ],
   "source": [
    "for i in range(1, len(lista_ordenada2)):\n",
    "    if lista_ordenada2[i] != lista_ordenada2[i-1]+1:\n",
    "        print(\"El elemento faltante es:\", lista_ordenada2[i]-1)\n",
    "        break"
   ]
  },
  {
   "cell_type": "code",
   "execution_count": 24,
   "metadata": {},
   "outputs": [
    {
     "data": {
      "text/plain": [
       "[34, 35, 36, 38, 39, 40]"
      ]
     },
     "execution_count": 24,
     "metadata": {},
     "output_type": "execute_result"
    }
   ],
   "source": [
    "lista_ordenada3"
   ]
  },
  {
   "cell_type": "code",
   "execution_count": 25,
   "metadata": {},
   "outputs": [
    {
     "name": "stdout",
     "output_type": "stream",
     "text": [
      "El elemento faltante es: 37\n"
     ]
    }
   ],
   "source": [
    "for i in range(1, len(lista_ordenada3)):\n",
    "    if lista_ordenada3[i] != lista_ordenada3[i-1]+1:\n",
    "        print(\"El elemento faltante es:\", lista_ordenada3[i]-1)\n",
    "        break"
   ]
  },
  {
   "cell_type": "code",
   "execution_count": null,
   "metadata": {},
   "outputs": [],
   "source": []
  },
  {
   "cell_type": "markdown",
   "metadata": {},
   "source": [
    "**Mover los ceros a la izquierda**\n",
    "\n",
    "Nos dan un *string* con números aleatorios. Algunos de ellos son 0. Encuentra todos los ceros y ponlos al principio de la lista, manteniendo el orden de los demás números.\n",
    "\n",
    "Ejemplo:\n",
    "\n",
    "```python\n",
    "A = [1,10,88,0,59,63,0,20,0]\n",
    "\n",
    "# tiene que devolver\n",
    "[0, 0, 0, 1, 10, 88, 59, 63, 20]\n",
    "```"
   ]
  },
  {
   "cell_type": "code",
   "execution_count": 31,
   "metadata": {},
   "outputs": [
    {
     "name": "stdout",
     "output_type": "stream",
     "text": [
      "[0, 0, 0, 1, 10, 20, 59, 63, 88]\n"
     ]
    }
   ],
   "source": [
    "A = [1,10,88,0,59,63,0,20,0]\n",
    "A.sort()\n",
    "print(A)\n",
    "\n",
    "# aquí simplemente ordenando la lista con .sort(), todos los elementos se colocan en su posición."
   ]
  },
  {
   "cell_type": "markdown",
   "metadata": {},
   "source": [
    "**Invertir palabras de una frase**\n",
    "\n",
    "Nos dan una frase en que quieren que las letras de cada palabra acaben teniendo el orden invertido, manteniendo el orden de las palabras.\n",
    "\n",
    "```python\n",
    "frase = 'Hola Ada'\n",
    "print(frase) # nos daría 'aloH adA'\n",
    "```"
   ]
  },
  {
   "cell_type": "code",
   "execution_count": 99,
   "metadata": {},
   "outputs": [
    {
     "name": "stdout",
     "output_type": "stream",
     "text": [
      "['Hola', 'Ada']\n"
     ]
    }
   ],
   "source": [
    "frase = 'Hola Ada'\n",
    "frase_lista = frase.split()\n",
    "print(frase_lista)\n",
    "\n",
    "# con el método .split() convierto el string en lista"
   ]
  },
  {
   "cell_type": "code",
   "execution_count": 144,
   "metadata": {},
   "outputs": [
    {
     "name": "stdout",
     "output_type": "stream",
     "text": [
      "['H', 'o', 'l', 'a']\n",
      "['A', 'd', 'a']\n"
     ]
    }
   ],
   "source": [
    "palabra1 = \"Hola\"\n",
    "palabra2 = \"Ada\"\n",
    "\n",
    "palabra_lista = list(palabra1)\n",
    "print(palabra_lista)\n",
    "\n",
    "palabra_lista2 = list(palabra2)\n",
    "print(palabra_lista2)\n"
   ]
  },
  {
   "cell_type": "code",
   "execution_count": 145,
   "metadata": {},
   "outputs": [
    {
     "name": "stdout",
     "output_type": "stream",
     "text": [
      "['a', 'l', 'o', 'H']\n",
      "['a', 'd', 'A']\n"
     ]
    }
   ],
   "source": [
    "palabra_lista.reverse()\n",
    "print(palabra_lista)\n",
    "\n",
    "palabra_lista2.reverse()\n",
    "print(palabra_lista2)\n"
   ]
  },
  {
   "cell_type": "code",
   "execution_count": 175,
   "metadata": {},
   "outputs": [
    {
     "name": "stdout",
     "output_type": "stream",
     "text": [
      "a l o H\n",
      "a d A\n"
     ]
    }
   ],
   "source": [
    "palab = \" \".join(palabra_lista)\n",
    "print(palab)\n",
    "\n",
    "palab2 = \" \".join(palabra_lista2)\n",
    "print(palab2)"
   ]
  },
  {
   "cell_type": "code",
   "execution_count": 179,
   "metadata": {},
   "outputs": [
    {
     "data": {
      "text/plain": [
       "'a l o H a d A'"
      ]
     },
     "execution_count": 179,
     "metadata": {},
     "output_type": "execute_result"
    }
   ],
   "source": [
    "frase_desordenada = (str(palab) + ' ' + str(palab2))\n",
    "frase_desordenada\n"
   ]
  },
  {
   "attachments": {},
   "cell_type": "markdown",
   "metadata": {},
   "source": [
    "###  ¿Es un DNI valido?\n",
    "\n",
    "Los DNI españoles pueden ser:\n",
    "\n",
    "- NIF (Numero de Identificación Fiscal) - 8 numeros y una letra, o\n",
    "- NIE (Numero de Identificación de Extranjeros) - 1 letra, 7 numeros y 1 letra."
   ]
  },
  {
   "cell_type": "code",
   "execution_count": 181,
   "metadata": {},
   "outputs": [],
   "source": [
    "lista_dni = [\"X-1234567-Z\", \"X-1234567\", \"12345678-M\", \"1234567-T\", \"12345677\"] "
   ]
  },
  {
   "attachments": {},
   "cell_type": "markdown",
   "metadata": {},
   "source": [
    "**BONUS: Encuentra los k números más cerca a X**\n",
    "\n",
    "\n",
    "Haz una programa que compare los contenidos de una lista a un número dado X. Queremos que nos devuelva los k números que son más parecidos al número dado.\n",
    "\n",
    "Ejemplo:\n",
    "```python\n",
    "L = [4, 19, -5, 100, 53, 43, 74, -83, 13.5, 26]\n",
    "# Dados los siguientes valores \n",
    "x =30\n",
    "k = 3 # el número de números que tendremos que buscar en la lista que se parecen a 30 \n",
    "# El output debería ser igual a [26, 19, 43]\n",
    "```"
   ]
  },
  {
   "cell_type": "code",
   "execution_count": null,
   "metadata": {},
   "outputs": [],
   "source": []
  }
 ],
 "metadata": {
  "kernelspec": {
   "display_name": "Python 3",
   "language": "python",
   "name": "python3"
  },
  "language_info": {
   "codemirror_mode": {
    "name": "ipython",
    "version": 3
   },
   "file_extension": ".py",
   "mimetype": "text/x-python",
   "name": "python",
   "nbconvert_exporter": "python",
   "pygments_lexer": "ipython3",
   "version": "3.9.7"
  },
  "orig_nbformat": 4,
  "vscode": {
   "interpreter": {
    "hash": "31f2aee4e71d21fbe5cf8b01ff0e069b9275f58929596ceb00d14d90e3e16cd6"
   }
  }
 },
 "nbformat": 4,
 "nbformat_minor": 2
}
